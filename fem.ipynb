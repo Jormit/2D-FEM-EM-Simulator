{
 "cells": [
  {
   "attachments": {},
   "cell_type": "markdown",
   "metadata": {},
   "source": [
    "### 2D Electromagnetic Scattering Simulator using FEM"
   ]
  },
  {
   "attachments": {},
   "cell_type": "markdown",
   "metadata": {},
   "source": [
    "#### Imports"
   ]
  },
  {
   "cell_type": "code",
   "execution_count": 1872,
   "metadata": {},
   "outputs": [],
   "source": [
    "import calfem.geometry as cfg\n",
    "import calfem.mesh as cfm\n",
    "\n",
    "import matplotlib.pyplot as plt\n",
    "import numpy as np"
   ]
  },
  {
   "attachments": {},
   "cell_type": "markdown",
   "metadata": {},
   "source": [
    "#### Define Problem\n",
    "Problem is defined by a series of points connected to form a single surface and the free space wavenumber $k_0$. Furthermore, each line between 2 points can have a reflection boundary (marker=0), source boundary (marker=1) and a open boundary (marker=2). For the example below, we are currently simulating a rectangular waveguide driven at one end and open on the other. "
   ]
  },
  {
   "cell_type": "code",
   "execution_count": 1873,
   "metadata": {},
   "outputs": [],
   "source": [
    "g = cfg.Geometry()\n",
    "\n",
    "g.point([0.0, 0.0])\n",
    "g.point([5.0, 0.0])\n",
    "g.point([5.0, 1.0])\n",
    "g.point([0.0, 1.0])\n",
    "\n",
    "g.spline([0, 1], marker=0)\n",
    "g.spline([1, 2], marker=1)\n",
    "g.spline([2, 3], marker=0)\n",
    "g.spline([3, 0], marker=2)\n",
    "\n",
    "g.surface([0, 1, 2, 3])\n",
    "\n",
    "k0 = 4"
   ]
  },
  {
   "attachments": {},
   "cell_type": "markdown",
   "metadata": {},
   "source": [
    "#### Generate Mesh"
   ]
  },
  {
   "attachments": {},
   "cell_type": "markdown",
   "metadata": {},
   "source": [
    "For FEM we need to discretize the domain using a triangular mesh. This is done automatically using GMSH, an open source meshing generator. We have control on how coarse or fine to make the mesh through the SizeFactor parameter."
   ]
  },
  {
   "cell_type": "code",
   "execution_count": 1874,
   "metadata": {},
   "outputs": [],
   "source": [
    "def reshape_boundary_dict(bdofs):\n",
    "    nodeset = set([0])\n",
    "    for array in bdofs.items():\n",
    "        nodeset.update(array[1])\n",
    "    new = np.zeros(len(nodeset) - 1)\n",
    "    for key in bdofs:\n",
    "        for elem in bdofs[key]:\n",
    "            new[elem - 1] = key\n",
    "    return new"
   ]
  },
  {
   "cell_type": "code",
   "execution_count": 1875,
   "metadata": {},
   "outputs": [
    {
     "name": "stdout",
     "output_type": "stream",
     "text": [
      "Info    : GMSH -> Python-module\n",
      "{0: [1, 2, 3, 4, 5, 6, 7, 8, 9, 10, 11, 12, 13, 14, 15, 16, 17, 18, 19, 20, 21, 22, 23, 24, 25, 26, 27, 28, 29, 30, 31, 32, 33, 34, 35, 36, 37, 38, 39, 40, 41, 42, 43, 44, 45, 46, 47, 48, 49, 50, 51, 52, 53, 63, 64, 65, 66, 67, 68, 69, 70, 71, 72, 73, 74, 75, 76, 77, 78, 79, 80, 81, 82, 83, 84, 85, 86, 87, 88, 89, 90, 91, 92, 93, 94, 95, 96, 97, 98, 99, 100, 101, 102, 103, 104, 105, 106, 107, 108, 109, 110, 111], 1: [2, 3, 54, 55, 56, 57, 58, 59, 60, 61, 62], 2: [1, 4, 112, 113, 114, 115, 116, 117, 118, 119, 120]}\n"
     ]
    }
   ],
   "source": [
    "mesh = cfm.GmshMesh(g)\n",
    "mesh.elType = 2\n",
    "mesh.dofsPerNode = 1\n",
    "mesh.elSizeFactor = 0.1\n",
    "coords, edof, dofs, bdofs, elementmarkers = mesh.create()\n",
    "boundaries = reshape_boundary_dict(bdofs)\n",
    "\n",
    "print(bdofs)\n",
    "\n",
    "for n in range(len(boundaries)):\n",
    "    if int(boundaries[n]) == 1:\n",
    "        boundaries[n] = np.sin(coords[n][1] * np.pi)"
   ]
  },
  {
   "attachments": {},
   "cell_type": "markdown",
   "metadata": {},
   "source": [
    "#### Assemble Element Matrices"
   ]
  },
  {
   "attachments": {},
   "cell_type": "markdown",
   "metadata": {},
   "source": [
    "To begin the analysis, we must first assemble local matrices for each element which encode how the values at the nodes interact with one another. This formulation comes from the book \"Introduction to the Finite Element\n",
    "Method in Electromagnetics\" by Anastasis C. Polycarpou.\n",
    "\n",
    "The general method in 2D applies to any differential equation of the form:\n",
    "\n",
    "$ \\frac{\\partial}{\\partial x} (\\alpha_x \\frac{\\partial u}{\\partial x}) + \\frac{\\partial}{\\partial y} (\\alpha_y \\frac{\\partial u}{\\partial y}) + \\beta u = g$\n",
    "\n",
    "Where $\\alpha_x$, $\\alpha_y$, $\\beta$ and $g$ are constants that depend on the application and can be a function of $x$ and $y$. We are interested in finding $u(x,y)$. To solve this, the problem must be discretized into a number of finite elements which may be polygons or triangles as shown below:\n",
    "\n",
    "<image src=\"discretization.png\" width=600></image>\n",
    "\n",
    "The FEM formulation begins with finding a method to interpolate the unknown quantity $u(x,y)$ within each finite element. This is normally acheived by utilizing a linear combination of shape functions associated with each vertex. They usually have the property that they equal 1 at their associated vertex and are 0 at the other vertices of the element. Thus any point in between can be calculated as a sum of such shape functions:\n",
    "\n",
    "$u(x,y) = \\sum_{j=1}^{n} u_j^e N_j (x,y)$\n",
    "\n",
    "Where $u_i = u$ at each vertex $i$ and $N_i(x,y)$ is the shape function associated with each vertex $i$. In general these are 1st or 2nd order Lagrange polynomials.\n",
    "\n",
    "FEM aims to minimise the residual of the differential equation over a single element:\n",
    "\n",
    "$r^e = \\frac{\\partial}{\\partial x} (\\alpha_x \\frac{\\partial u}{\\partial x}) + \\frac{\\partial}{\\partial y} (\\alpha_y \\frac{\\partial u}{\\partial y}) + \\beta u - g $\n",
    "\n",
    "To do this we must integrate the resisdual over the element $\\Omega$ and set this to zero. We also add a \"weighting\" function that enables for the equation to be converted into a matrix equation later on. \n",
    "\n",
    "$\\iint_\\Omega w (r^e) \\, dx \\, dy = 0$\n",
    "\n",
    "$\\iint_\\Omega w (\\frac{\\partial}{\\partial x} (\\alpha_x \\frac{\\partial u}{\\partial x}) + \\frac{\\partial}{\\partial y} (\\alpha_y \\frac{\\partial u}{\\partial y}) + \\beta u - g) \\, dx \\, dy = 0$\n",
    "\n",
    "Through some manipulation (see book) this equation can be converted to.\n",
    "\n",
    "$-\\iint_\\Omega [\\alpha_x \\frac{\\partial w}{\\partial x} \\frac{\\partial u}{\\partial x} + \\alpha_y \\frac{\\partial w}{\\partial y} \\frac{\\partial u}{\\partial y}] \\, dx \\, dy + \\iint_\\Omega \\beta w u \\, dx \\, dy = \\iint_\\Omega w g \\, dx \\, dy - \\oint_\\Gamma w (\\alpha_x \\frac{\\partial u}{\\partial x} n_x + \\alpha_y \\frac{\\partial u}{\\partial y} n_y) d l$\n",
    "\n",
    "The weighting functions are usually selected to be the shape functions themselves:\n",
    "\n",
    "$w = N_i$ for $i = 1,2, ... n$\n",
    "\n",
    "Now substituting the interpolated form of $u(x,y)$ and substituting in the weighting functions yields:\n",
    "\n",
    "$-\\iint_\\Omega [\\alpha_x \\frac{\\partial N_i}{\\partial x} \\frac{\\partial (\\sum_{j=1}^{n} u_j^e N_j (x,y))}{\\partial x} + \\alpha_y \\frac{\\partial N_i}{\\partial y} \\frac{\\partial (\\sum_{j=1}^{n} u_j^e N_j (x,y))}{\\partial y}] \\, dx \\, dy + \\iint_\\Omega \\beta N_i (\\sum_{j=1}^{n} u_j^e N_j (x,y)) \\, dx \\, dy = \\iint_\\Omega N_i g \\, dx \\, dy - \\oint_\\Gamma N_i (\\alpha_x \\frac{\\partial (\\sum_{j=1}^{n} u_j^e N_j (x,y))}{\\partial x} n_x + \\alpha_y \\frac{\\partial (\\sum_{j=1}^{n} u_j^e N_j (x,y))}{\\partial y} n_y) d l$\n",
    "\n",
    "for $ i = 1,2, ... n$\n",
    "\n",
    "Which can be written in the matrix form:\n",
    "\n",
    "$\\begin{bmatrix}\n",
    "M_{11} & M_{12} & \\dots & M_{1n}\\\\\n",
    "M_{21} & M_{22} & \\dots & M_{2n}\\\\\n",
    "\\vdots & \\vdots & \\ddots & \\vdots\\\\\n",
    "M_{n1} & M_{n2} & \\dots & M_{nn}\n",
    "\\end{bmatrix}$\n",
    "$\\begin{bmatrix}\n",
    "u_1^e \\\\\n",
    "u_2^e \\\\\n",
    "\\vdots \\\\\n",
    "u_n^e \n",
    "\\end{bmatrix}$ +\n",
    "$\\begin{bmatrix}\n",
    "T_{11} & T_{12} & \\dots & T_{1n}\\\\\n",
    "T_{21} & T_{22} & \\dots & T_{2n}\\\\\n",
    "\\vdots & \\vdots & \\ddots & \\vdots\\\\\n",
    "T_{n1} & T_{n2} & \\dots & T_{nn}\n",
    "\\end{bmatrix}$ \n",
    "$\\begin{bmatrix}\n",
    "u_1^e \\\\\n",
    "u_2^e \\\\\n",
    "\\vdots \\\\\n",
    "u_n^e \n",
    "\\end{bmatrix}$ = \n",
    "$\\begin{bmatrix}\n",
    "f_1^e \\\\\n",
    "f_2^e \\\\\n",
    "\\vdots \\\\\n",
    "f_n^e \n",
    "\\end{bmatrix}$ +\n",
    "$\\begin{bmatrix}\n",
    "p_1^e \\\\\n",
    "p_2^e \\\\\n",
    "\\vdots \\\\\n",
    "p_n^e \n",
    "\\end{bmatrix}$\n",
    "\n",
    "The values of each element are derived in the book and used in the code below. Once each of these matrices are constructed, the values for u_j can be found by solving the matrix."
   ]
  },
  {
   "cell_type": "code",
   "execution_count": 1876,
   "metadata": {},
   "outputs": [],
   "source": [
    "def Me(coords, alpha_x, alpha_y):\n",
    "    x1 = coords[0, 0]\n",
    "    x2 = coords[1, 0]\n",
    "    x3 = coords[2, 0]\n",
    "    y1 = coords[0, 1]\n",
    "    y2 = coords[1, 1]\n",
    "    y3 = coords[2, 1]\n",
    "    A = 1 / 2 * np.abs(x1 * (y2 - y3) + x2 * (y3 - y1) + x3 * (y1 - y2))\n",
    "    M11 = -(alpha_x * (y2 - y3) ** 2 + alpha_y * (x3 - x2) ** 2) / (4 * A)\n",
    "    M12 = -(alpha_x * (y2 - y3) * (y3 - y1) + alpha_y * (x3 - x2) * (x1 - x3)) / (4 * A)\n",
    "    M13 = -(alpha_x * (y2 - y3) * (y1 - y2) + alpha_y * (x3 - x2) * (x2 - x1)) / (4 * A)\n",
    "    M22 = -(alpha_x * (y3 - y1) ** 2 + alpha_y * (x1 - x3) ** 2) / (4 * A)\n",
    "    M23 = -(alpha_x * (y3 - y1) * (y1 - y2) + alpha_y * (x1 - x3) * (x2 - x1)) / (4 * A)\n",
    "    M33 = -(alpha_x * (y1 - y2) ** 2 + alpha_y * (x2 - x1) ** 2) / (4 * A)\n",
    "    return np.matrix(\n",
    "        [[M11, M12, M13], [M12, M22, M23], [M13, M23, M33]], dtype=\"complex\"\n",
    "    )"
   ]
  },
  {
   "cell_type": "code",
   "execution_count": 1877,
   "metadata": {},
   "outputs": [],
   "source": [
    "def Te(coords, beta):\n",
    "    x1 = coords[0, 0]\n",
    "    x2 = coords[1, 0]\n",
    "    x3 = coords[2, 0]\n",
    "    y1 = coords[0, 1]\n",
    "    y2 = coords[1, 1]\n",
    "    y3 = coords[2, 1]\n",
    "    A = 1 / 2 * np.abs(x1 * (y2 - y3) + x2 * (y3 - y1) + x3 * (y1 - y2))\n",
    "    T1 = beta * A / 6\n",
    "    T2 = beta * A / 12\n",
    "    return np.matrix([[T1, T2, T2], [T2, T1, T2], [T2, T2, T1]], dtype=\"complex\")"
   ]
  },
  {
   "cell_type": "code",
   "execution_count": 1878,
   "metadata": {},
   "outputs": [],
   "source": [
    "def pe(coords, gamma, is_open):\n",
    "    if not is_open:\n",
    "        return np.matrix([[0, 0, 0], [0, 0, 0], [0, 0, 0]], dtype=\"complex\")\n",
    "    x1 = coords[0, 0]\n",
    "    x2 = coords[1, 0]\n",
    "    y1 = coords[0, 1]\n",
    "    y2 = coords[1, 1]\n",
    "    l12 = np.sqrt((x1 - x2) ** 2 + (y1 - y2) ** 2)\n",
    "    k11 = -gamma * l12 / 3\n",
    "    k12 = -gamma * l12 / 6\n",
    "    return np.matrix([[k11, k12, 0], [k12, k11, 0], [0, 0, 0]], dtype=\"complex\")"
   ]
  },
  {
   "cell_type": "code",
   "execution_count": 1879,
   "metadata": {},
   "outputs": [],
   "source": [
    "num_elem = len(edof)\n",
    "num_nodes = len(dofs)\n",
    "ke = np.zeros((num_elem, 3, 3), dtype=\"complex\")\n",
    "be = np.zeros((num_elem, 3), dtype=\"complex\")\n",
    "for i in range(num_elem):\n",
    "    is_open = False\n",
    "    if edof[i][0] <= len(boundaries) and edof[i][1] <= len(boundaries) and boundaries[edof[i][0] - 1] == 2 and boundaries[edof[i][1] - 1] == 2:\n",
    "        is_open = True\n",
    "    ke[i] = (\n",
    "        Me(coords[edof[i] - 1], 1, 1)\n",
    "        + Te(coords[edof[i] - 1], k0 ** 2)\n",
    "        + pe(coords[edof[i] - 1], 1j * k0, is_open)\n",
    "    )"
   ]
  },
  {
   "attachments": {},
   "cell_type": "markdown",
   "metadata": {},
   "source": [
    "#### Assemble Global Matrix"
   ]
  },
  {
   "attachments": {},
   "cell_type": "markdown",
   "metadata": {},
   "source": [
    "The local element matrices must then be merged together to form the global matrix."
   ]
  },
  {
   "cell_type": "code",
   "execution_count": 1880,
   "metadata": {},
   "outputs": [],
   "source": [
    "K = np.zeros((num_nodes, num_nodes), dtype=\"complex\")\n",
    "for e in range(num_elem):\n",
    "    for i in range(3):\n",
    "        for j in range(3):\n",
    "            K[edof[e, i] - 1, edof[e, j] - 1] += ke[e, i, j]"
   ]
  },
  {
   "attachments": {},
   "cell_type": "markdown",
   "metadata": {},
   "source": [
    "#### Create RHS Vector"
   ]
  },
  {
   "cell_type": "code",
   "execution_count": 1881,
   "metadata": {},
   "outputs": [],
   "source": [
    "b = np.zeros(num_nodes, dtype=complex)"
   ]
  },
  {
   "attachments": {},
   "cell_type": "markdown",
   "metadata": {},
   "source": [
    "#### Introduce Boundary Conditions"
   ]
  },
  {
   "attachments": {},
   "cell_type": "markdown",
   "metadata": {},
   "source": [
    "Once the global matrix is formed, we must the introduce boundary conditions. This involves deleting certain rows and columns and slightly adjusting the right hand side vector."
   ]
  },
  {
   "cell_type": "code",
   "execution_count": 1882,
   "metadata": {},
   "outputs": [],
   "source": [
    "for n in reversed(range(len(boundaries))):\n",
    "    if int(np.real(boundaries[n])) == 2:\n",
    "        continue\n",
    "    for i in range(len(b)):\n",
    "        b[i] -= boundaries[n] * K[i, n]\n",
    "    b = np.delete(b, n, axis=0)\n",
    "    K = np.delete(K, n, axis=0)\n",
    "    K = np.delete(K, n, axis=1)"
   ]
  },
  {
   "attachments": {},
   "cell_type": "markdown",
   "metadata": {},
   "source": [
    "#### Solve"
   ]
  },
  {
   "cell_type": "code",
   "execution_count": 1883,
   "metadata": {},
   "outputs": [],
   "source": [
    "x = np.linalg.solve(K, b)"
   ]
  },
  {
   "attachments": {},
   "cell_type": "markdown",
   "metadata": {},
   "source": [
    "#### Cleanup Results"
   ]
  },
  {
   "cell_type": "code",
   "execution_count": 1884,
   "metadata": {},
   "outputs": [
    {
     "name": "stderr",
     "output_type": "stream",
     "text": [
      "C:\\Users\\Jordan\\AppData\\Local\\Temp\\ipykernel_8648\\2018686061.py:4: ComplexWarning: Casting complex values to real discards the imaginary part\n",
      "  boundaries[i] = x[abc_i]\n"
     ]
    }
   ],
   "source": [
    "abc_i = 0\n",
    "for i in range(len(boundaries)):\n",
    "    if boundaries[i] == 2:\n",
    "        boundaries[i] = x[abc_i]\n",
    "        abc_i += 1\n",
    "v = np.concatenate((boundaries, x[abc_i:]))"
   ]
  },
  {
   "attachments": {},
   "cell_type": "markdown",
   "metadata": {},
   "source": [
    "#### Plot"
   ]
  },
  {
   "cell_type": "code",
   "execution_count": 1885,
   "metadata": {},
   "outputs": [
    {
     "data": {
      "text/plain": [
       "<matplotlib.colorbar.Colorbar at 0x1e4481df3d0>"
      ]
     },
     "execution_count": 1885,
     "metadata": {},
     "output_type": "execute_result"
    },
    {
     "data": {
      "image/png": "[encoded data removed]",
      "text/plain": [
       "<Figure size 1440x288 with 2 Axes>"
      ]
     },
     "metadata": {
      "needs_background": "light"
     },
     "output_type": "display_data"
    }
   ],
   "source": [
    "plt.figure(figsize=(20, 4))\n",
    "plt.tricontourf(coords[:, 0], coords[:, 1], edof - 1, np.real(v), cmap=plt.cm.rainbow)\n",
    "plt.title(\"Real(Ez)\")\n",
    "plt.colorbar()"
   ]
  },
  {
   "cell_type": "code",
   "execution_count": 1886,
   "metadata": {},
   "outputs": [
    {
     "data": {
      "text/plain": [
       "<matplotlib.colorbar.Colorbar at 0x1e44829c6d0>"
      ]
     },
     "execution_count": 1886,
     "metadata": {},
     "output_type": "execute_result"
    },
    {
     "data": {
      "image/png": "[encoded data removed]",
      "text/plain": [
       "<Figure size 1440x288 with 2 Axes>"
      ]
     },
     "metadata": {
      "needs_background": "light"
     },
     "output_type": "display_data"
    }
   ],
   "source": [
    "plt.figure(figsize=(20, 4))\n",
    "plt.tricontourf(coords[:, 0], coords[:, 1], edof - 1, np.abs(v), cmap=plt.cm.rainbow)\n",
    "plt.title(\"Abs(Ez)\")\n",
    "plt.colorbar()"
   ]
  }
 ],
 "metadata": {
  "kernelspec": {
   "display_name": "base",
   "language": "python",
   "name": "python3"
  },
  "language_info": {
   "codemirror_mode": {
    "name": "ipython",
    "version": 3
   },
   "file_extension": ".py",
   "mimetype": "text/x-python",
   "name": "python",
   "nbconvert_exporter": "python",
   "pygments_lexer": "ipython3",
   "version": "3.9.12"
  },
  "orig_nbformat": 4,
  "vscode": {
   "interpreter": {
    "hash": "ca8f103ea987b225e34385eeac93a827c58d69467b80c53d3463034be0fddec3"
   }
  }
 },
 "nbformat": 4,
 "nbformat_minor": 2
}
