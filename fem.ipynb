{
 "cells": [
  {
   "attachments": {},
   "cell_type": "markdown",
   "metadata": {},
   "source": [
    "### 2D Electromagnetic Scattering Simulator using FEM"
   ]
  },
  {
   "attachments": {},
   "cell_type": "markdown",
   "metadata": {},
   "source": [
    "#### Imports"
   ]
  },
  {
   "cell_type": "code",
   "execution_count": 403,
   "metadata": {},
   "outputs": [],
   "source": [
    "import calfem.geometry as cfg\n",
    "import calfem.mesh as cfm\n",
    "\n",
    "import matplotlib.pyplot as plt\n",
    "import matplotlib.animation as animation\n",
    "import numpy as np"
   ]
  },
  {
   "attachments": {},
   "cell_type": "markdown",
   "metadata": {},
   "source": [
    "#### Define Problem\n",
    "Problem is defined by a series of points connected to form a single surface and the free space wavenumber $k_0$. Furthermore, each line between 2 points can have a reflection boundary (marker=0), source boundary (marker=1) and a open boundary (marker=2). For the example below, we are currently simulating a rectangular waveguide driven at one end and open on the other. "
   ]
  },
  {
   "cell_type": "code",
   "execution_count": 404,
   "metadata": {},
   "outputs": [],
   "source": [
    "g = cfg.Geometry()\n",
    "\n",
    "g.point([0.0, 0.0])\n",
    "g.point([5.0, 0.0])\n",
    "g.point([5.0, 1.0])\n",
    "g.point([0.0, 1.0])\n",
    "\n",
    "g.spline([0, 1], marker=0)\n",
    "g.spline([1, 2], marker=1)\n",
    "g.spline([2, 3], marker=0)\n",
    "g.spline([3, 0], marker=2)\n",
    "\n",
    "g.surface([0, 1, 2, 3])\n",
    "\n",
    "k0 = 5"
   ]
  },
  {
   "attachments": {},
   "cell_type": "markdown",
   "metadata": {},
   "source": [
    "#### Generate Mesh"
   ]
  },
  {
   "attachments": {},
   "cell_type": "markdown",
   "metadata": {},
   "source": [
    "For FEM we need to discretize the domain using a triangular mesh. This is done automatically using GMSH, an open source meshing generator. We have control on how coarse or fine to make the mesh through the SizeFactor parameter."
   ]
  },
  {
   "cell_type": "code",
   "execution_count": 405,
   "metadata": {},
   "outputs": [],
   "source": [
    "def reshape_boundary_dict(bdofs):\n",
    "    nodeset = set([0])\n",
    "    for array in bdofs.items():\n",
    "        nodeset.update(array[1])\n",
    "    new = np.zeros(len(nodeset)-1, dtype=\"complex\")\n",
    "    for key in bdofs:\n",
    "        for elem in bdofs[key]:\n",
    "            new[elem-1] = key\n",
    "    return new"
   ]
  },
  {
   "cell_type": "code",
   "execution_count": 406,
   "metadata": {},
   "outputs": [
    {
     "name": "stdout",
     "output_type": "stream",
     "text": [
      "Info    : GMSH -> Python-module\n"
     ]
    },
    {
     "name": "stderr",
     "output_type": "stream",
     "text": [
      "C:\\Users\\Jordan\\AppData\\Local\\Temp\\ipykernel_9464\\453331575.py:9: ComplexWarning: Casting complex values to real discards the imaginary part\n",
      "  if (int(boundaries[n]) == 1):\n"
     ]
    }
   ],
   "source": [
    "mesh = cfm.GmshMesh(g)\n",
    "mesh.elType = 2\n",
    "mesh.dofsPerNode = 1\n",
    "mesh.elSizeFactor = 0.1\n",
    "coords, edof, dofs, bdofs, elementmarkers = mesh.create()\n",
    "boundaries = reshape_boundary_dict(bdofs)\n",
    "\n",
    "for n in range(len(boundaries)):\n",
    "    if (int(boundaries[n]) == 1):\n",
    "        boundaries[n] = np.sin(coords[n][1]*np.pi)"
   ]
  },
  {
   "attachments": {},
   "cell_type": "markdown",
   "metadata": {},
   "source": [
    "#### Assemble Element Matrices"
   ]
  },
  {
   "attachments": {},
   "cell_type": "markdown",
   "metadata": {},
   "source": [
    "To begin the analysis, we must first assemble local matrices for each element which encode how the values at the nodes interact with one another. This formulation comes from the book \"Introduction to the Finite Element\n",
    "Method in Electromagnetics\" by Anastasis C. Polycarpou."
   ]
  },
  {
   "cell_type": "code",
   "execution_count": 407,
   "metadata": {},
   "outputs": [],
   "source": [
    "def Ke(coords, alpha_x, alpha_y):\n",
    "    x1 = coords[0,0]\n",
    "    x2 = coords[1,0]\n",
    "    x3 = coords[2,0]\n",
    "    y1 = coords[0,1]\n",
    "    y2 = coords[1,1]\n",
    "    y3 = coords[2,1]\n",
    "    A = 1/2 * np.abs(x1*(y2 - y3) + x2 * (y3 - y1) + x3 * (y1 - y2))\n",
    "    M11 = -(alpha_x * (y2 - y3) ** 2  + alpha_y * (x3 - x2) ** 2) / (4 * A)\n",
    "    M12 = -(alpha_x * (y2 - y3) * (y3 - y1) + alpha_y * (x3 - x2) * (x1 - x3)) / (4 * A)\n",
    "    M13 = -(alpha_x * (y2 - y3) * (y1 - y2) + alpha_y * (x3 - x2) * (x2 - x1)) / (4 * A)\n",
    "    M22 = -(alpha_x * (y3 - y1) ** 2 + alpha_y * (x1 - x3) ** 2) / (4 * A)\n",
    "    M23 = -(alpha_x * (y3 - y1) * (y1 - y2) + alpha_y * (x1 - x3) * (x2 - x1)) / (4 * A)\n",
    "    M33 = -(alpha_x * (y1 - y2) ** 2 + alpha_y * (x2 - x1) ** 2) / (4 * A)\n",
    "    return np.matrix([[M11, M12, M13],\n",
    "                      [M12, M22, M23],\n",
    "                      [M13, M23, M33]], dtype=\"complex\")"
   ]
  },
  {
   "cell_type": "code",
   "execution_count": 408,
   "metadata": {},
   "outputs": [],
   "source": [
    "def Te(coords, beta):\n",
    "    x1 = coords[0,0]\n",
    "    x2 = coords[1,0]\n",
    "    x3 = coords[2,0]\n",
    "    y1 = coords[0,1]\n",
    "    y2 = coords[1,1]\n",
    "    y3 = coords[2,1]\n",
    "    A = 1/2 * np.abs(x1*(y2 - y3) + x2 * (y3 - y1) + x3 * (y1 - y2))\n",
    "    T1 = beta*A/6\n",
    "    T2 = beta*A/12\n",
    "    return np.matrix([[T1, T2, T2],\n",
    "                      [T2, T1, T2],\n",
    "                      [T2, T2, T1]], dtype=\"complex\")"
   ]
  },
  {
   "cell_type": "code",
   "execution_count": 409,
   "metadata": {},
   "outputs": [],
   "source": [
    "def pe(coords, gamma, is_open):\n",
    "    if not is_open:\n",
    "        return np.matrix([[0, 0, 0],\n",
    "                          [0, 0, 0],\n",
    "                          [0, 0, 0]], dtype=\"complex\")\n",
    "    x1 = coords[0,0]\n",
    "    x2 = coords[1,0]\n",
    "    y1 = coords[0,1]\n",
    "    y2 = coords[1,1]\n",
    "    l12 = np.sqrt((x1 - x2) ** 2 + (y1 - y2) ** 2)\n",
    "    k11 = -gamma * l12 / 3\n",
    "    k12 = -gamma * l12 / 6\n",
    "    return np.matrix([[k11, k12, 0],\n",
    "                      [k12, k11, 0],\n",
    "                      [0  , 0  , 0]], dtype=\"complex\")"
   ]
  },
  {
   "cell_type": "code",
   "execution_count": 410,
   "metadata": {},
   "outputs": [],
   "source": [
    "num_elem = len(edof)\n",
    "num_nodes = len(dofs)\n",
    "ke = np.zeros((num_elem, 3, 3), dtype=\"complex\")\n",
    "be = np.zeros((num_elem, 3), dtype=\"complex\")\n",
    "for i in range(num_elem):\n",
    "    is_open = False\n",
    "    if (edof[i][0] <= len(boundaries) and boundaries[edof[i][0] - 1] == 2):\n",
    "        is_open = True\n",
    "    ke[i] = Ke(coords[edof[i] - 1], 1, 1) + Te(coords[edof[i] - 1], k0**2) + pe(coords[edof[i] - 1], 1j*k0, is_open)"
   ]
  },
  {
   "attachments": {},
   "cell_type": "markdown",
   "metadata": {},
   "source": [
    "#### Assemble Global Matrix"
   ]
  },
  {
   "attachments": {},
   "cell_type": "markdown",
   "metadata": {},
   "source": [
    "The local element matrices must then be merged together to form the global matrix"
   ]
  },
  {
   "cell_type": "code",
   "execution_count": 411,
   "metadata": {},
   "outputs": [],
   "source": [
    "K = np.zeros((num_nodes, num_nodes), dtype=\"complex\")\n",
    "for e in range(num_elem):\n",
    "    for i in range(3):\n",
    "        for j in range(3):\n",
    "            K[edof[e,i] - 1, edof[e,j] - 1] += ke[e,i,j]"
   ]
  },
  {
   "attachments": {},
   "cell_type": "markdown",
   "metadata": {},
   "source": [
    "#### Create RHS Vector"
   ]
  },
  {
   "cell_type": "code",
   "execution_count": 412,
   "metadata": {},
   "outputs": [],
   "source": [
    "b = np.zeros(num_nodes, dtype=complex)"
   ]
  },
  {
   "attachments": {},
   "cell_type": "markdown",
   "metadata": {},
   "source": [
    "#### Introduce Boundary Conditions"
   ]
  },
  {
   "attachments": {},
   "cell_type": "markdown",
   "metadata": {},
   "source": [
    "Once the global matrix is formed, we must the introduce boundary conditions. This involves deleting certain rows and columns and slightly adjusting the right hand side vector."
   ]
  },
  {
   "cell_type": "code",
   "execution_count": 413,
   "metadata": {},
   "outputs": [],
   "source": [
    "for n in reversed (range(len(boundaries))):\n",
    "    if int(np.real(boundaries[n])) == 2:\n",
    "        continue\n",
    "    for i in range(len(b)):\n",
    "        b[i] -= boundaries[n]*K[i, n]\n",
    "    b = np.delete(b, n, axis=0)\n",
    "    K = np.delete(K, n, axis=0)\n",
    "    K = np.delete(K, n, axis=1)"
   ]
  },
  {
   "attachments": {},
   "cell_type": "markdown",
   "metadata": {},
   "source": [
    "#### Solve"
   ]
  },
  {
   "cell_type": "code",
   "execution_count": 414,
   "metadata": {},
   "outputs": [],
   "source": [
    "x = np.linalg.solve(K,b)"
   ]
  },
  {
   "attachments": {},
   "cell_type": "markdown",
   "metadata": {},
   "source": [
    "#### Cleanup Results"
   ]
  },
  {
   "cell_type": "code",
   "execution_count": 415,
   "metadata": {},
   "outputs": [],
   "source": [
    "abc_i = 0\n",
    "for i in range(len(boundaries)):\n",
    "    if boundaries[i] == 2:\n",
    "        boundaries[i] = x[abc_i]\n",
    "        abc_i+=1\n",
    "v = np.concatenate((boundaries,x[abc_i:]))"
   ]
  },
  {
   "attachments": {},
   "cell_type": "markdown",
   "metadata": {},
   "source": [
    "#### Plot"
   ]
  },
  {
   "cell_type": "code",
   "execution_count": 418,
   "metadata": {},
   "outputs": [
    {
     "data": {
      "image/png": "[encoded data removed]",
      "text/plain": [
       "<Figure size 1440x288 with 2 Axes>"
      ]
     },
     "metadata": {
      "needs_background": "light"
     },
     "output_type": "display_data"
    }
   ],
   "source": [
    "plt.figure(figsize=(20,4))\n",
    "plt.tricontourf(coords[:,0], coords[:,1], edof-1, np.real(v), cmap=plt.cm.rainbow);\n",
    "plt.title(\"Real(Ez)\");\n",
    "plt.colorbar();"
   ]
  }
 ],
 "metadata": {
  "kernelspec": {
   "display_name": "base",
   "language": "python",
   "name": "python3"
  },
  "language_info": {
   "codemirror_mode": {
    "name": "ipython",
    "version": 3
   },
   "file_extension": ".py",
   "mimetype": "text/x-python",
   "name": "python",
   "nbconvert_exporter": "python",
   "pygments_lexer": "ipython3",
   "version": "3.9.12"
  },
  "orig_nbformat": 4,
  "vscode": {
   "interpreter": {
    "hash": "ca8f103ea987b225e34385eeac93a827c58d69467b80c53d3463034be0fddec3"
   }
  }
 },
 "nbformat": 4,
 "nbformat_minor": 2
}
